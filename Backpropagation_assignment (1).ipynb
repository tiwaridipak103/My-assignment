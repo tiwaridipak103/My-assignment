{
 "cells": [
  {
   "cell_type": "markdown",
   "metadata": {
    "id": "y871RZtRhCEH"
   },
   "source": [
    "# <font color='red'>BackPropagation</font>"
   ]
  },
  {
   "cell_type": "markdown",
   "metadata": {
    "id": "LqePYi-4mFvK"
   },
   "source": [
    "**There will be some functions that start with the word \"grader\" ex: grader_sigmoid(), grader_forwardprop(), grader_backprop() etc, you should not change those function definition.<br><br>Every Grader function has to return True.**"
   ]
  },
  {
   "cell_type": "markdown",
   "metadata": {
    "id": "0huUQ0byiI0I"
   },
   "source": [
    "## <font color='red'>Loading data </font>"
   ]
  },
  {
   "cell_type": "code",
   "execution_count": 8,
   "metadata": {
    "colab": {
     "base_uri": "https://localhost:8080/"
    },
    "executionInfo": {
     "elapsed": 2327,
     "status": "ok",
     "timestamp": 1607683626260,
     "user": {
      "displayName": "dipak tiwari",
      "photoUrl": "",
      "userId": "05947251302105473545"
     },
     "user_tz": -330
    },
    "id": "1hSje5CBgcUb",
    "outputId": "938d54d6-a383-4eee-9267-cd1662473378"
   },
   "outputs": [
    {
     "name": "stdout",
     "output_type": "stream",
     "text": [
      "(506, 6)\n",
      "(506, 5) (506,)\n"
     ]
    }
   ],
   "source": [
    "import pickle\n",
    "import numpy as np\n",
    "from tqdm import tqdm\n",
    "import matplotlib.pyplot as plt\n",
    "\n",
    "with open('data.pkl', 'rb') as f:\n",
    "    data = pickle.load(f)\n",
    "print(data.shape)\n",
    "x = data[:, :5]\n",
    "y = data[:, -1]\n",
    "print(x.shape, y.shape)"
   ]
  },
  {
   "cell_type": "code",
   "execution_count": 9,
   "metadata": {
    "colab": {
     "base_uri": "https://localhost:8080/"
    },
    "executionInfo": {
     "elapsed": 1493,
     "status": "ok",
     "timestamp": 1607683628489,
     "user": {
      "displayName": "dipak tiwari",
      "photoUrl": "",
      "userId": "05947251302105473545"
     },
     "user_tz": -330
    },
    "id": "Ng3eLrL_tyHV",
    "outputId": "3b61980a-ae2e-4f0a-9b75-f9396bb5eb3f"
   },
   "outputs": [
    {
     "name": "stdout",
     "output_type": "stream",
     "text": [
      "[-1.2879095  -0.12001342 -1.45900038 -0.66660821 -0.14421743]\n",
      "-1.287909498957745\n"
     ]
    }
   ],
   "source": [
    "print(x[0])\n",
    "print(x[0][0])"
   ]
  },
  {
   "cell_type": "markdown",
   "metadata": {
    "id": "5JL-0soQistC"
   },
   "source": [
    "# <font color='red'>Computational graph</font>"
   ]
  },
  {
   "cell_type": "markdown",
   "metadata": {
    "id": "nREnTTJ3i0Vd"
   },
   "source": [
    "<img src='https://i.imgur.com/seSGbNS.png'>"
   ]
  },
  {
   "cell_type": "markdown",
   "metadata": {
    "id": "DSPX_H_4i_HT"
   },
   "source": [
    "\n",
    "*  **If you observe the graph, we are having input features [f1, f2, f3, f4, f5] and 9 weights [w1, w2, w3, w4, w5, w6,    w7, w8, w9]**.<br><br>\n",
    "*  **The final output of this graph is a value L which is computed as (Y-Y')^2** "
   ]
  },
  {
   "cell_type": "markdown",
   "metadata": {
    "id": "D54eDEv6jkO4"
   },
   "source": [
    "# <font color='red'>Task 1: Implementing backpropagation and Gradient checking </font>"
   ]
  },
  {
   "cell_type": "markdown",
   "metadata": {
    "id": "qocI1Vzqkod9"
   },
   "source": [
    "<font color='blue'><b>Check this video for better understanding of the computational graphs and back propagation</font>"
   ]
  },
  {
   "cell_type": "code",
   "execution_count": 10,
   "metadata": {
    "colab": {
     "base_uri": "https://localhost:8080/",
     "height": 521
    },
    "executionInfo": {
     "elapsed": 1583,
     "status": "ok",
     "timestamp": 1607683631041,
     "user": {
      "displayName": "dipak tiwari",
      "photoUrl": "",
      "userId": "05947251302105473545"
     },
     "user_tz": -330
    },
    "id": "Wb5WMdwJinlX",
    "outputId": "b9f1b8d1-81d8-4851-cab3-045b0627655e"
   },
   "outputs": [
    {
     "data": {
      "image/jpeg": "[encoded data removed]",
      "text/html": [
       "\n",
       "        <iframe\n",
       "            width=\"1000\"\n",
       "            height=\"500\"\n",
       "            src=\"https://www.youtube.com/embed/i94OvYb6noo\"\n",
       "            frameborder=\"0\"\n",
       "            allowfullscreen\n",
       "        ></iframe>\n",
       "        "
      ],
      "text/plain": [
       "<IPython.lib.display.YouTubeVideo at 0x7f49e3ccb320>"
      ]
     },
     "execution_count": 10,
     "metadata": {
      "tags": []
     },
     "output_type": "execute_result"
    }
   ],
   "source": [
    "from IPython.display import YouTubeVideo\n",
    "YouTubeVideo('i94OvYb6noo',width=\"1000\",height=\"500\")"
   ]
  },
  {
   "cell_type": "markdown",
   "metadata": {
    "id": "2jecTyVRlh-6"
   },
   "source": [
    "\n",
    "*  <b>Write two functions<br>\n",
    "    *  Forward propagation</b>(Write your code in<font color='blue'> def forward_propagation()</b></font>)<br><br>\n",
    "    For easy debugging, we will break the computational graph into 3 parts.\n",
    "\n",
    "    <font color='green'><b>Part 1</b></font></b>\n",
    "    <img src='https://i.imgur.com/0xUaxy6.png'><br><br>\n",
    "    <font color='green'><b>Part 2</b></font></b><br>\n",
    "    <img src='https://i.imgur.com/J29pAJL.png'><br><br>\n",
    "    <font color='green'><b>Part 3</b></font></b>\n",
    "    <img src='https://i.imgur.com/vMyCsd9.png'>\n",
    "\n",
    "    <pre>\n",
    "    <font color='green'>\n",
    "def forward_propagation(X, y, W):\n",
    "        <font color='grey'>\n",
    "        # X: input data point, note that in this assignment you are having 5-d data points\n",
    "        # y: output varible\n",
    "        # W: weight array, its of length 9, W[0] corresponds to w1 in graph, W[1] corresponds to w2 in graph, <br>         ..., W[8] corresponds to w9 in graph.  \n",
    "        # you have to return the following variables\n",
    "        # exp= part1 (compute the forward propagation until exp and then store the values in exp)\n",
    "        # tanh =part2(compute the forward propagation until tanh and then store the values in tanh)\n",
    "        # sig = part3(compute the forward propagation until sigmoid and then store the values in sig)\n",
    "        # now compute remaining values from computional graph and get y'\n",
    "        # write code to compute the value of L=(y-y')^2\n",
    "        # compute derivative of L  w.r.to Y' and store it in dl\n",
    "        # Create a dictionary to store all the intermediate values\n",
    "        # store L, exp,tanh,sig,dl variables\n",
    "        </font>\n",
    "        return (dictionary, which you might need to use for back propagation)\n",
    "        <font color='grey'>\n",
    "        </font>\n",
    "</font>\n",
    "</pre>\n",
    "    *  <b>Backward propagation</b>(Write your code in<font color='blue'> def backward_propagation()</b></font>)\n",
    "    </b>\n",
    "    <pre>\n",
    "    <font color='green'>\n",
    "    def backward_propagation(L, W,dictionary):\n",
    "        <font color='grey'>\n",
    "        # L: the loss we calculated for the current point\n",
    "        # dictionary: the outputs of the forward_propagation() function\n",
    "        # write code to compute the gradients of each weight [w1,w2,w3,...,w9]\n",
    "        # Hint: you can use dict type to store the required variables \n",
    "        # return dW, dW is a dictionary with gradients of all the weights\n",
    "        </font>\n",
    "        return dW\n",
    "        </font>\n",
    "</font>\n",
    "</pre>"
   ]
  },
  {
   "cell_type": "markdown",
   "metadata": {
    "id": "STS4NrQQc6OH"
   },
   "source": [
    " ## <font color='red'>Gradient clipping</font>"
   ]
  },
  {
   "cell_type": "markdown",
   "metadata": {
    "id": "XY7ivRNzdPok"
   },
   "source": [
    "<b> Check this  <a href='https://towardsdatascience.com/how-to-debug-a-neural-network-with-gradient-checking-41deec0357a9'>blog link</a> for more details on Gradient clipping"
   ]
  },
  {
   "cell_type": "markdown",
   "metadata": {
    "id": "BrsfpDoidtZ5"
   },
   "source": [
    " we know that the derivative of any function is\n",
    " \n",
    " $$\\lim_{\\epsilon\\to0}\\frac{f(x+\\epsilon)-f(x-\\epsilon)}{2\\epsilon}$$\n"
   ]
  },
  {
   "cell_type": "markdown",
   "metadata": {
    "id": "vUcmt0kPd02f"
   },
   "source": [
    "*  The definition above can be used as a numerical approximation of the derivative. Taking an epsilon small enough, the calculated approximation will have an error in the range of epsilon squared. \n",
    "\n",
    "*  In other words, if epsilon is 0.001, the approximation will be off by 0.00001.\n",
    "\n",
    "Therefore, we can use this to approximate the gradient, and in turn make sure that backpropagation is implemented properly. This forms the basis of <b>gradient checking!</b>"
   ]
  },
  {
   "cell_type": "markdown",
   "metadata": {
    "id": "pFSu16KCeU0x"
   },
   "source": [
    "## <Font color='blue'>Gradient checking example</font>"
   ]
  },
  {
   "cell_type": "markdown",
   "metadata": {
    "id": "Gz0mmT_xecfC"
   },
   "source": [
    "<font >\n",
    "lets understand the concept with a simple example:\n",
    "$f(w1,w2,x1,x2)=w_{1}^{2} . x_{1} + w_{2} . x_{2}$ \n",
    "\n",
    "from the above function , lets assume $w_{1}=1$, $w_{2}=2$, $x_{1}=3$, $x_{2}=4$ the gradient of $f$ w.r.t $w_{1}$ is\n",
    "\n",
    "\\begin{array} {lcl}\n",
    "\\frac{df}{dw_{1}} = dw_{1} &=&2.w_{1}.x_{1} \\\\& = &2.1.3\\\\& = &6\n",
    "\\end{array}\n",
    "\n",
    "\n",
    "let calculate the aproximate gradient of $w_{1}$ as mentinoned in the above formula and considering $\\epsilon=0.0001$\n",
    "\n",
    "\\begin{array} {lcl}\n",
    "dw_1^{approx} & = & \\frac{f(w1+\\epsilon,w2,x1,x2)-f(w1-\\epsilon,w2,x1,x2)}{2\\epsilon} \\\\ & = & \\frac{((1+0.0001)^{2} . 3 + 2 . 4) - ((1-0.0001)^{2} . 3 + 2 . 4)}{2\\epsilon} \\\\ & = & \\frac{(1.00020001 . 3 + 2 . 4) - (0.99980001. 3 + 2 . 4)}{2*0.0001} \\\\ & = & \\frac{(11.00060003) - (10.99940003)}{0.0002}\\\\ & = & 5.99999999999\n",
    "\\end{array}\n",
    "\n",
    "Then, we apply the following formula for gradient check: <i>gradient_check</i> = \n",
    "$\\frac{\\left\\Vert\\left (dW-dW^{approx}\\rm\\right) \\right\\Vert_2}{\\left\\Vert\\left (dW\\rm\\right) \\right\\Vert_2+\\left\\Vert\\left (dW^{approx}\\rm\\right) \\right\\Vert_2}$\n",
    "\n",
    "The equation above is basically the Euclidean distance normalized by the sum of the norm of the vectors. We use normalization in case that one of the vectors is very small.\n",
    "As a value for epsilon, we usually opt for 1e-7. Therefore, if gradient check return a value less than 1e-7, then it means that backpropagation was implemented correctly. Otherwise, there is potentially a mistake in your implementation. If the value exceeds 1e-3, then you are sure that the code is not correct.\n",
    "\n",
    "in our example: <i>gradient_check</i> $ = \\frac{(6 - 5.999999999994898)}{(6 + 5.999999999994898)} = 4.2514140356330737e^{-13}$\n",
    "\n",
    "you can mathamatically derive the same thing like this\n",
    "\n",
    "\\begin{array} {lcl}\n",
    "dw_1^{approx} & = & \\frac{f(w1+\\epsilon,w2,x1,x2)-f(w1-\\epsilon,w2,x1,x2)}{2\\epsilon} \\\\ & = & \\frac{((w_{1}+\\epsilon)^{2} . x_{1} + w_{2} . x_{2}) - ((w_{1}-\\epsilon)^{2} . x_{1} + w_{2} . x_{2})}{2\\epsilon} \\\\ & = & \\frac{4. \\epsilon.w_{1}. x_{1}}{2\\epsilon} \\\\ & = &  2.w_{1}.x_{1}\n",
    "\\end{array}\n"
   ]
  },
  {
   "cell_type": "markdown",
   "metadata": {
    "id": "f1BFQQaCermK"
   },
   "source": [
    "## <font color='red'> Implement Gradient checking </font> <br>\n",
    " (Write your code in <font color='blue'> def gradient_checking()</font>)"
   ]
  },
  {
   "cell_type": "markdown",
   "metadata": {
    "id": "GqpfA3AqfJba"
   },
   "source": [
    "**Algorithm** \n",
    "\n"
   ]
  },
  {
   "cell_type": "markdown",
   "metadata": {
    "id": "FL39KeRFfNoD"
   },
   "source": [
    "<pre>\n",
    "<font color='darkblue'>\n",
    "W = initilize_randomly\n",
    "def gradient_checking(data_point, W):<font color='grey'>\n",
    "    # compute the L value using forward_propagation()\n",
    "    # compute the gradients of W using backword_propagation()</font>\n",
    "    approx_gradients = []\n",
    "    for each wi weight value in W:<font color='grey'>\n",
    "        # add a small value to weight wi, and then find the values of L with the updated weights\n",
    "        # subtract a small value to weight wi, and then find the values of L with the updated weights\n",
    "        # compute the approximation gradients of weight wi</font>\n",
    "        approx_gradients.append(approximation gradients of weight wi)<font color='grey'>\n",
    "    # compare the gradient of weights W from backword_propagation() with the aproximation gradients of weights with <br>  gradient_check formula</font>\n",
    "    return gradient_check</font>\n",
    "<b>NOTE: you can do sanity check by checking all the return values of gradient_checking(),<br> they have to be zero. if not you have bug in your code\n",
    "</pre></b>"
   ]
  },
  {
   "cell_type": "markdown",
   "metadata": {
    "id": "0ufbFBFfhgL0"
   },
   "source": [
    "# <font color='red'> Task 2 : Optimizers </font>"
   ]
  },
  {
   "cell_type": "markdown",
   "metadata": {
    "id": "7zt05soYh1RM"
   },
   "source": [
    "* As a part of this task, you will be implementing 3 type of optimizers(methods to update weight)\n",
    "* Use the same computational graph that was mentioned above to do this task\n",
    "* Initilze the 9 weights from normal distribution with mean=0 and std=0.01"
   ]
  },
  {
   "cell_type": "markdown",
   "metadata": {
    "id": "CAyi7aSAicbr"
   },
   "source": [
    "**Check below video and <a href='https://cs231n.github.io/neural-networks-3/'>this</a> blog**"
   ]
  },
  {
   "cell_type": "code",
   "execution_count": 11,
   "metadata": {
    "colab": {
     "base_uri": "https://localhost:8080/",
     "height": 521
    },
    "executionInfo": {
     "elapsed": 1228,
     "status": "ok",
     "timestamp": 1607683636455,
     "user": {
      "displayName": "dipak tiwari",
      "photoUrl": "",
      "userId": "05947251302105473545"
     },
     "user_tz": -330
    },
    "id": "ZogcxiegkQpz",
    "outputId": "a86f229b-4de1-4203-c4d5-e30f2673ddf2"
   },
   "outputs": [
    {
     "data": {
      "image/jpeg": "[encoded data removed]",
      "text/html": [
       "\n",
       "        <iframe\n",
       "            width=\"1000\"\n",
       "            height=\"500\"\n",
       "            src=\"https://www.youtube.com/embed/gYpoJMlgyXA\"\n",
       "            frameborder=\"0\"\n",
       "            allowfullscreen\n",
       "        ></iframe>\n",
       "        "
      ],
      "text/plain": [
       "<IPython.lib.display.YouTubeVideo at 0x7f49e261fdd8>"
      ]
     },
     "execution_count": 11,
     "metadata": {
      "tags": []
     },
     "output_type": "execute_result"
    }
   ],
   "source": [
    "from IPython.display import YouTubeVideo\n",
    "YouTubeVideo('gYpoJMlgyXA',width=\"1000\",height=\"500\")"
   ]
  },
  {
   "cell_type": "markdown",
   "metadata": {
    "id": "jmefh7ktjbaR"
   },
   "source": [
    "<font color='blue'><b>Algorithm</b>"
   ]
  },
  {
   "cell_type": "markdown",
   "metadata": {
    "id": "nAc4NudkjdNa"
   },
   "source": [
    "<pre>\n",
    "    for each epoch(1-100):\n",
    "        for each data point in your data:\n",
    "            using the functions forward_propagation() and backword_propagation() compute the gradients of weights\n",
    "            update the weigts with help of gradients  ex: w1 = w1-learning_rate*dw1\n",
    "</pre>"
   ]
  },
  {
   "cell_type": "markdown",
   "metadata": {
    "id": "_fdmPNqtjm3X"
   },
   "source": [
    "## <font color='red'> Implement below tasks</b>"
   ]
  },
  {
   "cell_type": "markdown",
   "metadata": {
    "id": "Ll9-CRsLjx_D"
   },
   "source": [
    "\n",
    "*  <b>Task 2.1</b>: you will be implementing the above algorithm with <b>Vanilla update</b> of weights<br><br>\n",
    "*  <b>Task 2.2</b>: you will be implementing the above algorithm with <b>Momentum update</b> of weights<br><br>\n",
    "*  <b>Task 2.3</b>: you will be implementing the above algorithm with <b>Adam update</b> of weights\n"
   ]
  },
  {
   "cell_type": "markdown",
   "metadata": {
    "id": "atp082demrUR"
   },
   "source": [
    "**Note : If you get any assertion error while running grader functions, please print the variables in grader functions and check which variable is returning False .Recheck your logic for that variable .**"
   ]
  },
  {
   "cell_type": "markdown",
   "metadata": {
    "id": "phG2WDkjkuIL"
   },
   "source": [
    "<br>\n",
    "<br>\n",
    "<br>"
   ]
  },
  {
   "cell_type": "markdown",
   "metadata": {
    "id": "CBaPzHP63grG"
   },
   "source": [
    "# <font color='red'>Task 1 </font>"
   ]
  },
  {
   "cell_type": "markdown",
   "metadata": {
    "id": "QfmV3FUgSrBo"
   },
   "source": [
    "## <font color='blue'>Forward propagation </font>"
   ]
  },
  {
   "cell_type": "code",
   "execution_count": 12,
   "metadata": {
    "executionInfo": {
     "elapsed": 1421,
     "status": "ok",
     "timestamp": 1607683642436,
     "user": {
      "displayName": "dipak tiwari",
      "photoUrl": "",
      "userId": "05947251302105473545"
     },
     "user_tz": -330
    },
    "id": "5_pBivcY30qf"
   },
   "outputs": [],
   "source": [
    "def sigmoid(z):\n",
    "  sig = 1/(1 + math.exp(-z))\n",
    "  return sig\n",
    "\n",
    "\n",
    "import math    \n",
    "def forward_propagation(x, y, w,i):\n",
    "  exp = math.exp(pow((w[0]*x[i][0] +w[1]*x[i][1]),2)+w[5])\n",
    "  tanh = np.tanh(exp+w[6])\n",
    "  a = (math.sin(w[2]*x[i][2]))*(w[3]*x[i][3]+w[4]*x[i][4]) + w[7]\n",
    "  sig = sigmoid(a)\n",
    "  y1 = sig*w[8] + tanh\n",
    "  L = pow((y[i]-y1),2)\n",
    "  dl = -2*(y[i]-y1)\n",
    "\n",
    "  return {'dy_pr':dl,'loss':L,'exp':exp,'tanh':tanh,'sigmoid':sig}\n"
   ]
  },
  {
   "cell_type": "markdown",
   "metadata": {
    "id": "z-z1rGKqCHNN"
   },
   "source": [
    "<font color='cyan'>Grader function - 1</font>"
   ]
  },
  {
   "cell_type": "code",
   "execution_count": 13,
   "metadata": {
    "colab": {
     "base_uri": "https://localhost:8080/"
    },
    "executionInfo": {
     "elapsed": 906,
     "status": "ok",
     "timestamp": 1607683643268,
     "user": {
      "displayName": "dipak tiwari",
      "photoUrl": "",
      "userId": "05947251302105473545"
     },
     "user_tz": -330
    },
    "id": "6ZxFF00zBmx1",
    "outputId": "9a00fb26-1b67-4160-ccae-0fe74ec5d9b1"
   },
   "outputs": [
    {
     "data": {
      "text/plain": [
       "True"
      ]
     },
     "execution_count": 13,
     "metadata": {
      "tags": []
     },
     "output_type": "execute_result"
    }
   ],
   "source": [
    "def grader_sigmoid(z):\n",
    "  val=sigmoid(z)\n",
    "  assert(val==0.8807970779778823)\n",
    "  return True\n",
    "\n",
    "grader_sigmoid(2)\n"
   ]
  },
  {
   "cell_type": "markdown",
   "metadata": {
    "id": "KgAUXq_aChey"
   },
   "source": [
    "<font color='cyan'>Grader function - 2 </font>"
   ]
  },
  {
   "cell_type": "code",
   "execution_count": 14,
   "metadata": {
    "colab": {
     "base_uri": "https://localhost:8080/"
    },
    "executionInfo": {
     "elapsed": 795,
     "status": "ok",
     "timestamp": 1607683644593,
     "user": {
      "displayName": "dipak tiwari",
      "photoUrl": "",
      "userId": "05947251302105473545"
     },
     "user_tz": -330
    },
    "id": "3uzsUqcjCorN",
    "outputId": "deadd9ab-8374-4d68-a46b-b86b5f9740bf"
   },
   "outputs": [
    {
     "data": {
      "text/plain": [
       "True"
      ]
     },
     "execution_count": 14,
     "metadata": {
      "tags": []
     },
     "output_type": "execute_result"
    }
   ],
   "source": [
    "def grader_forwardprop(data):\n",
    "    dl = (data['dy_pr']==-1.9285278284819143)\n",
    "    loss=(data['loss']==0.9298048963072919)\n",
    "    part1=(data['exp']==1.1272967040973583)\n",
    "    part2=(data['tanh']==0.8417934192562146)\n",
    "    part3=(data['sigmoid']==0.5279179387419721)\n",
    "    assert(dl and loss and part1 and part2 and part3)\n",
    "    return True\n",
    "w=np.ones(9)*0.1\n",
    "d1=forward_propagation(x,y,w,0)\n",
    "grader_forwardprop(d1)"
   ]
  },
  {
   "cell_type": "code",
   "execution_count": 15,
   "metadata": {
    "colab": {
     "base_uri": "https://localhost:8080/"
    },
    "executionInfo": {
     "elapsed": 2030,
     "status": "ok",
     "timestamp": 1607683646490,
     "user": {
      "displayName": "dipak tiwari",
      "photoUrl": "",
      "userId": "05947251302105473545"
     },
     "user_tz": -330
    },
    "id": "QtsK987CnxoF",
    "outputId": "bffd969e-a814-427d-ae6f-9d7b6000ab73"
   },
   "outputs": [
    {
     "name": "stdout",
     "output_type": "stream",
     "text": [
      "{'dy_pr': -1.9285278284819143, 'loss': 0.9298048963072919, 'exp': 1.1272967040973583, 'tanh': 0.8417934192562146, 'sigmoid': 0.5279179387419721}\n",
      "0.9298048963072919\n"
     ]
    }
   ],
   "source": [
    "print(d1)\n",
    "print(d1['loss'])"
   ]
  },
  {
   "cell_type": "markdown",
   "metadata": {
    "id": "obOaAqj3Sxvb"
   },
   "source": [
    "## <font color='blue'>Backward propagation</font>"
   ]
  },
  {
   "cell_type": "code",
   "execution_count": 16,
   "metadata": {
    "executionInfo": {
     "elapsed": 1066,
     "status": "ok",
     "timestamp": 1607683649283,
     "user": {
      "displayName": "dipak tiwari",
      "photoUrl": "",
      "userId": "05947251302105473545"
     },
     "user_tz": -330
    },
    "id": "dS49ykcOGhIv"
   },
   "outputs": [],
   "source": [
    "def backward_propagation(x,w,dict,i):    \n",
    "  z = w[0]*x[i][0] +w[1]*x[i][1]\n",
    "  t = w[3]*x[i][3]+w[4]*x[i][4]\n",
    "\n",
    "\n",
    "  dw1 = (dict['dy_pr']*(1-pow(dict['tanh'],2))*dict['exp']*4*z*x[i][0])/2\n",
    "  dw2 = (dict['dy_pr']*(1-pow(dict['tanh'],2))*dict['exp']*4*z*x[i][1])/2\n",
    "  dw3 = dict['dy_pr']*w[8]*dict['sigmoid']*(1-dict['sigmoid'])*t*x[i][2]*math.cos(w[2]*x[i][2])\n",
    "  dw4 = dict['dy_pr']*w[8]*dict['sigmoid']*(1-dict['sigmoid'])*x[i][3]*math.sin(w[2]*x[i][2])\n",
    "  dw5 = dict['dy_pr']*w[8]*dict['sigmoid']*(1-dict['sigmoid'])*x[i][4]*math.sin(w[2]*x[i][2])\n",
    "  dw7 = dict['dy_pr']*(1-pow(dict['tanh'],2))\n",
    "  dw6 = dw7*dict['exp']\n",
    "  dw8 = dict['dy_pr']*w[8]*dict['sigmoid']*(1-dict['sigmoid'])\n",
    "  dw9 = dict['dy_pr']*dict['sigmoid']\n",
    "\n",
    "\n",
    "  return {'dw1':dw1, 'dw2':dw2, 'dw3':dw3, 'dw4':dw4, 'dw5':dw5, 'dw6':dw6, 'dw7':dw7, 'dw8':dw8, 'dw9':dw9}\n"
   ]
  },
  {
   "cell_type": "code",
   "execution_count": 17,
   "metadata": {
    "colab": {
     "base_uri": "https://localhost:8080/"
    },
    "executionInfo": {
     "elapsed": 1677,
     "status": "ok",
     "timestamp": 1607683651058,
     "user": {
      "displayName": "dipak tiwari",
      "photoUrl": "",
      "userId": "05947251302105473545"
     },
     "user_tz": -330
    },
    "id": "kKzV6_UsYxll",
    "outputId": "2fdd070e-d00d-4c99-9e37-f92abe1f9feb"
   },
   "outputs": [
    {
     "name": "stdout",
     "output_type": "stream",
     "text": [
      "[0.1 0.1 0.1 0.1 0.1 0.1 0.1 0.1 0.1]\n"
     ]
    }
   ],
   "source": [
    "w=np.ones(9)*0.1\n",
    "print(w)"
   ]
  },
  {
   "cell_type": "code",
   "execution_count": 18,
   "metadata": {
    "colab": {
     "base_uri": "https://localhost:8080/"
    },
    "executionInfo": {
     "elapsed": 1065,
     "status": "ok",
     "timestamp": 1607683651060,
     "user": {
      "displayName": "dipak tiwari",
      "photoUrl": "",
      "userId": "05947251302105473545"
     },
     "user_tz": -330
    },
    "id": "64Qgscfma6Pr",
    "outputId": "c46a37a5-6744-4e0d-aed0-fb628b48eb77"
   },
   "outputs": [
    {
     "name": "stdout",
     "output_type": "stream",
     "text": [
      "{'dw1': -0.22973323498702, 'dw2': -0.02140761471775293, 'dw3': -0.005625405580266319, 'dw4': -0.004657941222712423, 'dw5': -0.0010077228498574246, 'dw6': -0.6334751873437471, 'dw7': -0.561941842854033, 'dw8': -0.04806288407316516, 'dw9': -1.0181044360187037}\n"
     ]
    }
   ],
   "source": [
    "w=np.ones(9)*0.1\n",
    "d1=forward_propagation(x,y,w,0)\n",
    "a = backward_propagation(x,w,d1,0)\n",
    "print(a)"
   ]
  },
  {
   "cell_type": "markdown",
   "metadata": {
    "id": "2NpZWAVlS4jb"
   },
   "source": [
    "<font color='cyan'>Grader function - 3 </font>"
   ]
  },
  {
   "cell_type": "code",
   "execution_count": 19,
   "metadata": {
    "colab": {
     "base_uri": "https://localhost:8080/",
     "height": 316
    },
    "executionInfo": {
     "elapsed": 1400,
     "status": "error",
     "timestamp": 1607683652961,
     "user": {
      "displayName": "dipak tiwari",
      "photoUrl": "",
      "userId": "05947251302105473545"
     },
     "user_tz": -330
    },
    "id": "1a8Kll2xGhMJ",
    "outputId": "f1e6379a-2ef9-4f85-91eb-5cfcbf2c634c"
   },
   "outputs": [
    {
     "ename": "AssertionError",
     "evalue": "ignored",
     "output_type": "error",
     "traceback": [
      "\u001b[0;31m---------------------------------------------------------------------------\u001b[0m",
      "\u001b[0;31mAssertionError\u001b[0m                            Traceback (most recent call last)",
      "\u001b[0;32m<ipython-input-19-18f8c9862680>\u001b[0m in \u001b[0;36m<module>\u001b[0;34m()\u001b[0m\n\u001b[1;32m     14\u001b[0m \u001b[0md1\u001b[0m\u001b[0;34m=\u001b[0m\u001b[0mforward_propagation\u001b[0m\u001b[0;34m(\u001b[0m\u001b[0mx\u001b[0m\u001b[0;34m,\u001b[0m\u001b[0my\u001b[0m\u001b[0;34m,\u001b[0m\u001b[0mw\u001b[0m\u001b[0;34m,\u001b[0m\u001b[0;36m0\u001b[0m\u001b[0;34m)\u001b[0m\u001b[0;34m\u001b[0m\u001b[0;34m\u001b[0m\u001b[0m\n\u001b[1;32m     15\u001b[0m \u001b[0md1\u001b[0m\u001b[0;34m=\u001b[0m\u001b[0mbackward_propagation\u001b[0m\u001b[0;34m(\u001b[0m\u001b[0mx\u001b[0m\u001b[0;34m,\u001b[0m\u001b[0mw\u001b[0m\u001b[0;34m,\u001b[0m\u001b[0md1\u001b[0m\u001b[0;34m,\u001b[0m\u001b[0;36m0\u001b[0m\u001b[0;34m)\u001b[0m\u001b[0;34m\u001b[0m\u001b[0;34m\u001b[0m\u001b[0m\n\u001b[0;32m---> 16\u001b[0;31m \u001b[0mgrader_backprop\u001b[0m\u001b[0;34m(\u001b[0m\u001b[0md1\u001b[0m\u001b[0;34m)\u001b[0m\u001b[0;34m\u001b[0m\u001b[0;34m\u001b[0m\u001b[0m\n\u001b[0m",
      "\u001b[0;32m<ipython-input-19-18f8c9862680>\u001b[0m in \u001b[0;36mgrader_backprop\u001b[0;34m(data)\u001b[0m\n\u001b[1;32m      9\u001b[0m     \u001b[0mdw8\u001b[0m\u001b[0;34m=\u001b[0m\u001b[0;34m(\u001b[0m\u001b[0mdata\u001b[0m\u001b[0;34m[\u001b[0m\u001b[0;34m'dw8'\u001b[0m\u001b[0;34m]\u001b[0m\u001b[0;34m==\u001b[0m\u001b[0;34m-\u001b[0m\u001b[0;36m0.04806288407316516\u001b[0m\u001b[0;34m)\u001b[0m\u001b[0;34m\u001b[0m\u001b[0;34m\u001b[0m\u001b[0m\n\u001b[1;32m     10\u001b[0m     \u001b[0mdw9\u001b[0m\u001b[0;34m=\u001b[0m\u001b[0;34m(\u001b[0m\u001b[0mdata\u001b[0m\u001b[0;34m[\u001b[0m\u001b[0;34m'dw9'\u001b[0m\u001b[0;34m]\u001b[0m\u001b[0;34m==\u001b[0m\u001b[0;34m-\u001b[0m\u001b[0;36m1.0181044360187037\u001b[0m\u001b[0;34m)\u001b[0m\u001b[0;34m\u001b[0m\u001b[0;34m\u001b[0m\u001b[0m\n\u001b[0;32m---> 11\u001b[0;31m     \u001b[0;32massert\u001b[0m\u001b[0;34m(\u001b[0m\u001b[0mdw1\u001b[0m \u001b[0;32mand\u001b[0m \u001b[0mdw2\u001b[0m \u001b[0;32mand\u001b[0m \u001b[0mdw3\u001b[0m \u001b[0;32mand\u001b[0m \u001b[0mdw4\u001b[0m \u001b[0;32mand\u001b[0m \u001b[0mdw5\u001b[0m \u001b[0;32mand\u001b[0m \u001b[0mdw6\u001b[0m \u001b[0;32mand\u001b[0m \u001b[0mdw7\u001b[0m \u001b[0;32mand\u001b[0m \u001b[0mdw8\u001b[0m \u001b[0;32mand\u001b[0m \u001b[0mdw9\u001b[0m\u001b[0;34m)\u001b[0m\u001b[0;34m\u001b[0m\u001b[0;34m\u001b[0m\u001b[0m\n\u001b[0m\u001b[1;32m     12\u001b[0m     \u001b[0;32mreturn\u001b[0m \u001b[0;32mTrue\u001b[0m\u001b[0;34m\u001b[0m\u001b[0;34m\u001b[0m\u001b[0m\n\u001b[1;32m     13\u001b[0m \u001b[0mw\u001b[0m\u001b[0;34m=\u001b[0m\u001b[0mnp\u001b[0m\u001b[0;34m.\u001b[0m\u001b[0mones\u001b[0m\u001b[0;34m(\u001b[0m\u001b[0;36m9\u001b[0m\u001b[0;34m)\u001b[0m\u001b[0;34m*\u001b[0m\u001b[0;36m0.1\u001b[0m\u001b[0;34m\u001b[0m\u001b[0;34m\u001b[0m\u001b[0m\n",
      "\u001b[0;31mAssertionError\u001b[0m: "
     ]
    }
   ],
   "source": [
    "def grader_backprop(data):\n",
    "    dw1=(data['dw1']==-0.22973323498702003)\n",
    "    dw2=(data['dw2']==-0.021407614717752925)\n",
    "    dw3=(data['dw3']==-0.005625405580266319)\n",
    "    dw4=(data['dw4']==-0.004657941222712423)\n",
    "    dw5=(data['dw5']==-0.0010077228498574246)\n",
    "    dw6=(data['dw6']==-0.6334751873437471)\n",
    "    dw7=(data['dw7']==-0.561941842854033)\n",
    "    dw8=(data['dw8']==-0.04806288407316516)\n",
    "    dw9=(data['dw9']==-1.0181044360187037)\n",
    "    assert(dw1 and dw2 and dw3 and dw4 and dw5 and dw6 and dw7 and dw8 and dw9)\n",
    "    return True \n",
    "w=np.ones(9)*0.1\n",
    "d1=forward_propagation(x,y,w,0)\n",
    "d1=backward_propagation(x,w,d1,0)\n",
    "grader_backprop(d1)"
   ]
  },
  {
   "cell_type": "markdown",
   "metadata": {
    "id": "1rfHHXZwgwo6"
   },
   "source": [
    "## <font color='blue'> Implement gradient checking</font>"
   ]
  },
  {
   "cell_type": "code",
   "execution_count": 20,
   "metadata": {
    "executionInfo": {
     "elapsed": 4946,
     "status": "ok",
     "timestamp": 1607683658480,
     "user": {
      "displayName": "dipak tiwari",
      "photoUrl": "",
      "userId": "05947251302105473545"
     },
     "user_tz": -330
    },
    "id": "puJF1SaHId-K"
   },
   "outputs": [],
   "source": [
    "def forward_propagation(x, y, w,i):\n",
    "  exp = math.exp(pow((w[0]*x[i][0] +w[1]*x[i][1]),2)+w[5])\n",
    "  tanh = np.tanh(exp+w[6])\n",
    "  a = (math.sin(w[2]*x[i][2]))*(w[3]*x[i][3]+w[4]*x[i][4]) + w[7]\n",
    "  sig = sigmoid(a)\n",
    "  y1 = sig*w[8] + tanh\n",
    "  L = pow((y[i]-y1),2)\n",
    "  dl = -2*(y[i]-y1)\n",
    "\n",
    "  return {'dy_pr':dl,'loss':L,'exp':exp,'tanh':tanh,'sigmoid':sig, 'y_pred':y1}"
   ]
  },
  {
   "cell_type": "code",
   "execution_count": 41,
   "metadata": {
    "executionInfo": {
     "elapsed": 1190,
     "status": "ok",
     "timestamp": 1607685902151,
     "user": {
      "displayName": "dipak tiwari",
      "photoUrl": "",
      "userId": "05947251302105473545"
     },
     "user_tz": -330
    },
    "id": "n-pllQVdUWoi"
   },
   "outputs": [],
   "source": [
    "def gradient_checking(x,y,W,k):\n",
    "  dict = forward_propagation(x, y, W,k)\n",
    "  dict1 = backward_propagation(x,W,dict,k)\n",
    "  dict1 = [i for i in dict1.values()]\n",
    "  print(dict1)\n",
    "  approx_gradients = []\n",
    "  \n",
    "  gradient_check = []\n",
    "  for  i,wi in enumerate(W):\n",
    "    noise1 = wi + 0.0001\n",
    "    W[i] = noise1\n",
    "    di1 = forward_propagation(x, y, W,k)\n",
    "    noise2 = wi - 0.0001\n",
    "    W[i] = noise2\n",
    "    di2 = forward_propagation(x, y, W,k)\n",
    "    W = np.ones(9)*0.1\n",
    "    dw_approx = (di1['loss']-di2['loss'])/(2*0.0001)\n",
    "\n",
    "    \n",
    "\n",
    "    approx_gradients.append(dw_approx)\n",
    "  print(approx_gradients)  \n",
    "\n",
    "\n",
    "  for i in range(len(W)):\n",
    "    gradient_check.append((np.linalg.norm(dict1[i] - approx_gradients[i]))/(np.linalg.norm(dict1[i])+np.linalg.norm(approx_gradients[i])))\n",
    "\n",
    "  return gradient_check"
   ]
  },
  {
   "cell_type": "code",
   "execution_count": 42,
   "metadata": {
    "colab": {
     "base_uri": "https://localhost:8080/"
    },
    "executionInfo": {
     "elapsed": 1331,
     "status": "ok",
     "timestamp": 1607685903953,
     "user": {
      "displayName": "dipak tiwari",
      "photoUrl": "",
      "userId": "05947251302105473545"
     },
     "user_tz": -330
    },
    "id": "sn-liU8pNByF",
    "outputId": "8e98ae31-f7cf-4659-9bb0-2173964c582f"
   },
   "outputs": [
    {
     "name": "stdout",
     "output_type": "stream",
     "text": [
      "[-0.22973323498702, -0.02140761471775293, -0.005625405580266319, -0.004657941222712423, -0.0010077228498574246, -0.6334751873437471, -0.561941842854033, -0.04806288407316516, -1.0181044360187037]\n",
      "[-0.22973323022201786, -0.02140761471536301, -0.0056254055608162545, -0.004657941222729889, -0.0010077228507210378, -0.6334751863795729, -0.5619418463920223, -0.0480628840343611, -1.0181044360180191]\n",
      "[1.0370728885929153e-08, 5.581934643713204e-11, 1.7287700041112022e-09, 1.87486944153289e-12, 4.2849738752544037e-10, 7.610196933782967e-10, 3.1480030084674753e-09, 4.0368014625577295e-10, 3.361951351774315e-13]\n"
     ]
    }
   ],
   "source": [
    "W = np.ones(9)*0.1\n",
    "gradient_check = gradient_checking(x,y,W,0)\n",
    "print(gradient_check)"
   ]
  },
  {
   "cell_type": "markdown",
   "metadata": {
    "id": "MhwDSe99kJ32"
   },
   "source": [
    "# <font color='red'>Task 2: Optimizers"
   ]
  },
  {
   "cell_type": "markdown",
   "metadata": {
    "id": "jJzI-vnPk1dB"
   },
   "source": [
    "###<font color='blue'>Algorithm with Vanilla update of weights</font>"
   ]
  },
  {
   "cell_type": "code",
   "execution_count": 43,
   "metadata": {
    "executionInfo": {
     "elapsed": 1386,
     "status": "ok",
     "timestamp": 1607685913997,
     "user": {
      "displayName": "dipak tiwari",
      "photoUrl": "",
      "userId": "05947251302105473545"
     },
     "user_tz": -330
    },
    "id": "cVRsPIYiv906"
   },
   "outputs": [],
   "source": [
    "import matplotlib.pyplot as plt\n",
    "def graph(train_loss,num):\n",
    "  epoch = np.arange(num)\n",
    "  plt.figure( figsize=(6,5))\n",
    "  plt.grid()\n",
    "  plt.plot(epoch,train_loss,color='orange')\n",
    "  plt.xlabel(\"Epochs\")\n",
    "  plt.ylabel(\"Loss\")\n",
    "  plt.title('Plot of Epoch Number Vs Train loss',fontsize = 14)\n",
    "  plt.legend(['train loss'])\n",
    "  plt.show()"
   ]
  },
  {
   "cell_type": "code",
   "execution_count": 44,
   "metadata": {
    "executionInfo": {
     "elapsed": 900,
     "status": "ok",
     "timestamp": 1607685914000,
     "user": {
      "displayName": "dipak tiwari",
      "photoUrl": "",
      "userId": "05947251302105473545"
     },
     "user_tz": -330
    },
    "id": "xJspU6ZuGhRQ"
   },
   "outputs": [],
   "source": [
    "def initialize_weights():\n",
    "  w=np.ones(9)*0.1\n",
    "  return w\n",
    "\n",
    "def train(X_train,y_train,epochs,alpha):\n",
    "  train_loss = list()\n",
    "  w= initialize_weights()\n",
    "  for i in range(epochs):\n",
    "    for j in range(len(X_train)):\n",
    "      dict = forward_propagation(X_train, y_train, w,j)\n",
    "      dw = backward_propagation(X_train,w,dict,j)\n",
    "      dw = [k for k in dw.values()]\n",
    "      w = [w[l] - alpha*m for l,m in enumerate(dw)]\n",
    "    dict = forward_propagation(X_train, y_train, w,j)  \n",
    "    train_loss.append(dict['loss'])\n",
    "    \n",
    "    \n",
    "  return train_loss "
   ]
  },
  {
   "cell_type": "markdown",
   "metadata": {
    "id": "UlTLXrvmlR26"
   },
   "source": [
    "<font color='blue'>Plot between epochs and loss</font>"
   ]
  },
  {
   "cell_type": "code",
   "execution_count": 45,
   "metadata": {
    "colab": {
     "base_uri": "https://localhost:8080/",
     "height": 351
    },
    "executionInfo": {
     "elapsed": 2991,
     "status": "ok",
     "timestamp": 1607685920542,
     "user": {
      "displayName": "dipak tiwari",
      "photoUrl": "",
      "userId": "05947251302105473545"
     },
     "user_tz": -330
    },
    "id": "CjTCVUIoGhTo",
    "outputId": "54458231-fe97-427c-d630-5490ab095411"
   },
   "outputs": [
    {
     "data": {
      "image/png": "[encoded data removed]",
      "text/plain": [
       "<Figure size 432x360 with 1 Axes>"
      ]
     },
     "metadata": {
      "needs_background": "light",
      "tags": []
     },
     "output_type": "display_data"
    }
   ],
   "source": [
    "train_loss1 = train(x,y,100,0.001)\n",
    "graph(train_loss1,100)"
   ]
  },
  {
   "cell_type": "markdown",
   "metadata": {
    "id": "cv_hZFWalS2z"
   },
   "source": [
    "###<font color='blue'>Algorithm with Momentum  update of weights</font>"
   ]
  },
  {
   "cell_type": "code",
   "execution_count": 82,
   "metadata": {
    "executionInfo": {
     "elapsed": 1131,
     "status": "ok",
     "timestamp": 1607692582165,
     "user": {
      "displayName": "dipak tiwari",
      "photoUrl": "",
      "userId": "05947251302105473545"
     },
     "user_tz": -330
    },
    "id": "uucCdyQrGhZt"
   },
   "outputs": [],
   "source": [
    "def initialize_weights():\n",
    "  w=np.ones(9)*0.1\n",
    "  return w\n",
    "\n",
    "def train(X_train,y_train,epochs,alpha,beta):\n",
    "  m = np.zeros(9)\n",
    "  #m = np.ones(9)\n",
    "  train_loss = list()\n",
    "  w= initialize_weights()\n",
    "  for i in range(epochs):\n",
    "    for j in range(len(X_train)):\n",
    "      dict = forward_propagation(X_train, y_train, w,j)\n",
    "      dw = backward_propagation(X_train,w,dict,j)\n",
    "      dw = np.array([k for k in dw.values()])\n",
    "      w = [w[l] - alpha*n for l,n in enumerate(m)]\n",
    "      #w = [w[l] - alpha*m for l,m in enumerate(dw)]\n",
    "      #w = [w[l] - n for l,n in enumerate(m)]\n",
    "      m = [ beta*m[o] - (1-beta)*p for o,p in enumerate(dw)]\n",
    "      #m = m*beta - alpha*dw\n",
    "    dict = forward_propagation(X_train, y_train, w,j)  \n",
    "    train_loss.append(dict['loss'])\n",
    "    \n",
    "    \n",
    "  return train_loss "
   ]
  },
  {
   "cell_type": "code",
   "execution_count": 91,
   "metadata": {
    "executionInfo": {
     "elapsed": 1181,
     "status": "ok",
     "timestamp": 1607695254955,
     "user": {
      "displayName": "dipak tiwari",
      "photoUrl": "",
      "userId": "05947251302105473545"
     },
     "user_tz": -330
    },
    "id": "ECOC_vpHDbL2"
   },
   "outputs": [],
   "source": [
    "def initialize_weights():\n",
    "  w=np.ones(9)*0.1\n",
    "  return w\n",
    "\n",
    "def train(X_train,y_train,epochs,alpha,gamma):\n",
    "  v = np.zeros(9)\n",
    "  #m = np.ones(9)\n",
    "  train_loss = list()\n",
    "  w= initialize_weights()\n",
    "  for i in range(epochs):\n",
    "    for j in range(len(X_train)):\n",
    "      dict = forward_propagation(X_train, y_train, w,j)\n",
    "      dw = backward_propagation(X_train,w,dict,j)\n",
    "      dw = np.array([k for k in dw.values()])\n",
    "      v = v*gamma + alpha*dw \n",
    "      w = w - v\n",
    "    dict = forward_propagation(X_train, y_train, w,j)  \n",
    "    train_loss.append(dict['loss'])\n",
    "    \n",
    "    \n",
    "  return train_loss "
   ]
  },
  {
   "cell_type": "markdown",
   "metadata": {
    "id": "Ow20azfKlVhn"
   },
   "source": [
    "<font color='blue'>Plot between epochs and loss</font>"
   ]
  },
  {
   "cell_type": "code",
   "execution_count": 92,
   "metadata": {
    "colab": {
     "base_uri": "https://localhost:8080/",
     "height": 351
    },
    "executionInfo": {
     "elapsed": 3043,
     "status": "ok",
     "timestamp": 1607695258992,
     "user": {
      "displayName": "dipak tiwari",
      "photoUrl": "",
      "userId": "05947251302105473545"
     },
     "user_tz": -330
    },
    "id": "u-m90Sq_Ghce",
    "outputId": "1714eba9-d9a6-49e5-e29c-572f2796fc09"
   },
   "outputs": [
    {
     "data": {
      "image/png": "[encoded data removed]",
      "text/plain": [
       "<Figure size 432x360 with 1 Axes>"
      ]
     },
     "metadata": {
      "needs_background": "light",
      "tags": []
     },
     "output_type": "display_data"
    }
   ],
   "source": [
    "train_loss2 = train(x,y,100,0.001,0.9)\n",
    "graph(train_loss2,100)"
   ]
  },
  {
   "cell_type": "markdown",
   "metadata": {
    "id": "V4RWWrZ7lWap"
   },
   "source": [
    "###<font color='blue'>Algorithm with adam update of weights</font>"
   ]
  },
  {
   "cell_type": "code",
   "execution_count": 96,
   "metadata": {
    "executionInfo": {
     "elapsed": 1152,
     "status": "ok",
     "timestamp": 1607695382626,
     "user": {
      "displayName": "dipak tiwari",
      "photoUrl": "",
      "userId": "05947251302105473545"
     },
     "user_tz": -330
    },
    "id": "72rRC8rJGhf5"
   },
   "outputs": [],
   "source": [
    "def initialize_weights():\n",
    "  w=np.ones(9)*0.1\n",
    "  return w\n",
    "\n",
    "def train(X_train,y_train,epochs,alpha,beta1,beta2,epsilon):\n",
    "  m = [0,0,0,0,0,0,0,0,0]\n",
    "  v = [0,0,0,0,0,0,0,0,0]\n",
    "  train_loss = list()\n",
    "  w= initialize_weights()\n",
    "  power = 1\n",
    "  for i in range(epochs):\n",
    "    for j in range(len(X_train)):\n",
    "      dict = forward_propagation(X_train, y_train, w,j)\n",
    "      dw = backward_propagation(X_train,w,dict,j)\n",
    "      dw = [k for k in dw.values()]\n",
    "      m = [ beta1*g + (1-beta1)*dw[f] for f,g in enumerate(m)]\n",
    "      m_ = [h/(1-pow(beta1,power)) for h in m]\n",
    "      v = [ beta2*r + (1-beta2)*pow(dw[q],2) for q,r in enumerate(v)]\n",
    "      v_ = [s/(1-pow(beta2,power)) for s in v]\n",
    "      w = [w[l] - alpha*m_[l]*(1/(math.sqrt(v_[l]+epsilon))) for l in range(len(m))]\n",
    "      power += 1\n",
    "    dict = forward_propagation(X_train, y_train, w,j)  \n",
    "    train_loss.append(dict['loss'])\n",
    "    \n",
    "    \n",
    "  return train_loss "
   ]
  },
  {
   "cell_type": "markdown",
   "metadata": {
    "id": "MMy0nBw-lXml"
   },
   "source": [
    "<font color='blue'>Plot between epochs and loss</font>"
   ]
  },
  {
   "cell_type": "code",
   "execution_count": 95,
   "metadata": {
    "colab": {
     "base_uri": "https://localhost:8080/",
     "height": 351
    },
    "executionInfo": {
     "elapsed": 4996,
     "status": "ok",
     "timestamp": 1607695351606,
     "user": {
      "displayName": "dipak tiwari",
      "photoUrl": "",
      "userId": "05947251302105473545"
     },
     "user_tz": -330
    },
    "id": "aiFRk_uFlm2V",
    "outputId": "7384d3c1-4ce4-4650-fd4d-84d3ae4d3c0e"
   },
   "outputs": [
    {
     "data": {
      "image/png": "[encoded data removed]",
      "text/plain": [
       "<Figure size 432x360 with 1 Axes>"
      ]
     },
     "metadata": {
      "needs_background": "light",
      "tags": []
     },
     "output_type": "display_data"
    }
   ],
   "source": [
    "train_loss3  = train(x,y,100,0.001,0.9,0.999,0.000001)\n",
    "graph(train_loss3,100)"
   ]
  },
  {
   "cell_type": "markdown",
   "metadata": {
    "id": "7627cy8YlnYO"
   },
   "source": [
    "<font color='blue'>Comparision plot between epochs and loss with different optimizers</font>"
   ]
  },
  {
   "cell_type": "code",
   "execution_count": 98,
   "metadata": {
    "colab": {
     "base_uri": "https://localhost:8080/",
     "height": 351
    },
    "executionInfo": {
     "elapsed": 1345,
     "status": "ok",
     "timestamp": 1607695407945,
     "user": {
      "displayName": "dipak tiwari",
      "photoUrl": "",
      "userId": "05947251302105473545"
     },
     "user_tz": -330
    },
    "id": "scleSfIXl_bC",
    "outputId": "baab1c76-58e4-459e-ea63-568c8b93574e",
    "scrolled": true
   },
   "outputs": [
    {
     "data": {
      "image/png": "[encoded data removed]",
      "text/plain": [
       "<Figure size 432x360 with 1 Axes>"
      ]
     },
     "metadata": {
      "needs_background": "light",
      "tags": []
     },
     "output_type": "display_data"
    }
   ],
   "source": [
    "epoch = np.arange(100)\n",
    "plt.figure( figsize=(6,5))\n",
    "plt.grid()\n",
    "plt.plot(epoch,train_loss1,color='blue')\n",
    "plt.plot(epoch,train_loss2,color='orange')\n",
    "plt.plot(epoch,train_loss3,color='red')\n",
    "plt.xlabel(\"Epochs\")\n",
    "plt.ylabel(\"Loss\")\n",
    "plt.title('Plot of Epoch Number Vs Train loss',fontsize = 14)\n",
    "plt.legend(['loss with Vanilla update','loss with Momentum update','loss with adam update'])\n",
    "plt.show()"
   ]
  },
  {
   "cell_type": "markdown",
   "metadata": {},
   "source": [
    "##Observation\n",
    "\n",
    "1. In vanilla update, it is found that loss is more at epoch 1 and droping in next epoch.\n",
    "2.In Momentum update, loss is comparitively found to be less as compare to vanilla update but converse fast.\n",
    "3.In adam update , loss is small as compare to both of them and took few epoch extra to converse."
   ]
  }
 ],
 "metadata": {
  "colab": {
   "collapsed_sections": [],
   "name": "Backpropagation_assignment.ipynb",
   "provenance": []
  },
  "kernelspec": {
   "display_name": "Python 3",
   "language": "python",
   "name": "python3"
  },
  "language_info": {
   "codemirror_mode": {
    "name": "ipython",
    "version": 3
   },
   "file_extension": ".py",
   "mimetype": "text/x-python",
   "name": "python",
   "nbconvert_exporter": "python",
   "pygments_lexer": "ipython3",
   "version": "3.7.5"
  }
 },
 "nbformat": 4,
 "nbformat_minor": 1
}
