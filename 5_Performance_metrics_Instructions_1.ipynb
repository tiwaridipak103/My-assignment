{
 "cells": [
  {
   "cell_type": "markdown",
   "metadata": {
    "id": "s0Ej_bXyQvnV"
   },
   "source": [
    "# Compute performance metrics for the given Y and Y_score without sklearn"
   ]
  },
  {
   "cell_type": "code",
   "execution_count": 4,
   "metadata": {
    "id": "4CHb6NE7Qvnc"
   },
   "outputs": [],
   "source": [
    "import numpy as np\n",
    "import pandas as pd\n",
    "# other than these two you should not import any other packages"
   ]
  },
  {
   "cell_type": "code",
   "execution_count": 25,
   "metadata": {
    "colab": {
     "base_uri": "https://localhost:8080/",
     "height": 359
    },
    "id": "TVGJXZbymtZk",
    "outputId": "0a73e814-3c03-43c2-8a6d-efdf52bca162"
   },
   "outputs": [
    {
     "data": {
      "text/html": [
       "<div>\n",
       "<style scoped>\n",
       "    .dataframe tbody tr th:only-of-type {\n",
       "        vertical-align: middle;\n",
       "    }\n",
       "\n",
       "    .dataframe tbody tr th {\n",
       "        vertical-align: top;\n",
       "    }\n",
       "\n",
       "    .dataframe thead th {\n",
       "        text-align: right;\n",
       "    }\n",
       "</style>\n",
       "<table border=\"1\" class=\"dataframe\">\n",
       "  <thead>\n",
       "    <tr style=\"text-align: right;\">\n",
       "      <th></th>\n",
       "      <th>y</th>\n",
       "      <th>proba</th>\n",
       "    </tr>\n",
       "  </thead>\n",
       "  <tbody>\n",
       "    <tr>\n",
       "      <th>1664</th>\n",
       "      <td>1.0</td>\n",
       "      <td>0.899965</td>\n",
       "    </tr>\n",
       "    <tr>\n",
       "      <th>2099</th>\n",
       "      <td>1.0</td>\n",
       "      <td>0.899828</td>\n",
       "    </tr>\n",
       "    <tr>\n",
       "      <th>1028</th>\n",
       "      <td>1.0</td>\n",
       "      <td>0.899825</td>\n",
       "    </tr>\n",
       "    <tr>\n",
       "      <th>9592</th>\n",
       "      <td>1.0</td>\n",
       "      <td>0.899812</td>\n",
       "    </tr>\n",
       "    <tr>\n",
       "      <th>8324</th>\n",
       "      <td>1.0</td>\n",
       "      <td>0.899768</td>\n",
       "    </tr>\n",
       "    <tr>\n",
       "      <th>2396</th>\n",
       "      <td>1.0</td>\n",
       "      <td>0.899751</td>\n",
       "    </tr>\n",
       "    <tr>\n",
       "      <th>3789</th>\n",
       "      <td>1.0</td>\n",
       "      <td>0.899467</td>\n",
       "    </tr>\n",
       "    <tr>\n",
       "      <th>2822</th>\n",
       "      <td>1.0</td>\n",
       "      <td>0.899444</td>\n",
       "    </tr>\n",
       "    <tr>\n",
       "      <th>2370</th>\n",
       "      <td>1.0</td>\n",
       "      <td>0.899429</td>\n",
       "    </tr>\n",
       "    <tr>\n",
       "      <th>7636</th>\n",
       "      <td>1.0</td>\n",
       "      <td>0.899415</td>\n",
       "    </tr>\n",
       "  </tbody>\n",
       "</table>\n",
       "</div>"
      ],
      "text/plain": [
       "        y     proba\n",
       "1664  1.0  0.899965\n",
       "2099  1.0  0.899828\n",
       "1028  1.0  0.899825\n",
       "9592  1.0  0.899812\n",
       "8324  1.0  0.899768\n",
       "2396  1.0  0.899751\n",
       "3789  1.0  0.899467\n",
       "2822  1.0  0.899444\n",
       "2370  1.0  0.899429\n",
       "7636  1.0  0.899415"
      ]
     },
     "execution_count": 25,
     "metadata": {
      "tags": []
     },
     "output_type": "execute_result"
    }
   ],
   "source": [
    "data = pd.read_csv('5_a.csv')\n",
    "data=data.sort_values(by= [\"proba\"], ascending = False)\n",
    "data.head(10)\n"
   ]
  },
  {
   "cell_type": "markdown",
   "metadata": {
    "id": "KbsWXuDaQvnq"
   },
   "source": [
    "<pre>\n",
    "<font color='red'><b>A.</b></font> Compute performance metrics for the given data <strong>5_a.csv</strong>\n",
    "   <b>Note 1:</b> in this data you can see number of positive points >> number of negatives points\n",
    "   <b>Note 2:</b> use pandas or numpy to read the data from <b>5_a.csv</b>\n",
    "   <b>Note 3:</b> you need to derive the class labels from given score</pre> $y^{pred}= \\text{[0 if y_score < 0.5 else 1]}$\n",
    "\n",
    "<pre>\n",
    "<ol>\n",
    "<li> Compute Confusion Matrix </li>\n",
    "<li> Compute F1 Score </li>\n",
    "<li> Compute AUC Score, you need to compute different thresholds and for each threshold compute tpr,fpr and then use               numpy.trapz(tpr_array, fpr_array) <a href='https://stackoverflow.com/q/53603376/4084039'>https://stackoverflow.com/q/53603376/4084039</a>, <a href='https://stackoverflow.com/a/39678975/4084039'>https://stackoverflow.com/a/39678975/4084039</a> Note: it should be numpy.trapz(tpr_array, fpr_array) not numpy.trapz(fpr_array, tpr_array)</li>\n",
    "<li> Compute Accuracy Score </li>\n",
    "</ol>\n",
    "</pre>"
   ]
  },
  {
   "cell_type": "code",
   "execution_count": 26,
   "metadata": {
    "id": "exySHUsai0I1"
   },
   "outputs": [],
   "source": [
    "true_y = data['y']\n",
    "pred_y = [0 if j['proba'] < 0.5 else 1 for i,j in data.iterrows()]"
   ]
  },
  {
   "cell_type": "code",
   "execution_count": 27,
   "metadata": {
    "colab": {
     "base_uri": "https://localhost:8080/"
    },
    "id": "RdpnKXpgmTMS",
    "outputId": "3ed074b0-914e-4ee8-c1e1-e502817944b2"
   },
   "outputs": [
    {
     "name": "stdout",
     "output_type": "stream",
     "text": [
      "the confusion matrix is :\n",
      "[[    0   100]\n",
      " [    0 10000]]\n"
     ]
    }
   ],
   "source": [
    "def confusion_matrix(true_y,pred_y):\n",
    "  classes = sorted(list(set(true_y)))\n",
    "  size = len(list(set(true_y)))\n",
    "  c = np.zeros([size, size],dtype=int)\n",
    "  for i in range(size):\n",
    "    for j in range(size):\n",
    "      for k in range(len(true_y)):\n",
    "        if true_y[k] == classes[i] and pred_y[k]  == classes[j]:\n",
    "          c[i][j] += 1\n",
    "\n",
    "  return c        \n",
    "  \n",
    "c = confusion_matrix(true_y,pred_y)\n",
    "print(f'the confusion matrix is :')\n",
    "print(c)"
   ]
  },
  {
   "cell_type": "code",
   "execution_count": 28,
   "metadata": {
    "colab": {
     "base_uri": "https://localhost:8080/"
    },
    "id": "KXOi8xGFvluu",
    "outputId": "7af4fe8a-7bcb-4ec3-cebb-859eb4b18418"
   },
   "outputs": [
    {
     "name": "stdout",
     "output_type": "stream",
     "text": [
      "f1 score is 0.9950248756218906\n"
     ]
    }
   ],
   "source": [
    "\n",
    "precision = c[1][1]/(c[1][0]+c[1][1])\n",
    "recall = c[1][1]/(c[1][1]+c[0][1])\n",
    "f1_score = 2*((precision*recall)/(precision+recall))\n",
    "print(f'f1 score is {f1_score}')"
   ]
  },
  {
   "cell_type": "code",
   "execution_count": 31,
   "metadata": {
    "colab": {
     "base_uri": "https://localhost:8080/"
    },
    "id": "svE46boDnAJg",
    "outputId": "7066294a-04f7-4f53-d2ff-4b8f195c287f"
   },
   "outputs": [
    {
     "name": "stdout",
     "output_type": "stream",
     "text": [
      "CPU times: user 6 µs, sys: 0 ns, total: 6 µs\n",
      "Wall time: 9.06 µs\n"
     ]
    }
   ],
   "source": [
    "%%time\n",
    "def auc_score(data):\n",
    "  #TTP - Total True Positive\n",
    "  \n",
    "  TPR = []\n",
    "  FPR = []\n",
    "  for threshold in data['proba'].unique():\n",
    "    TP, FP, TN, FN, tpr, fpr = 0,0,0,0,0,0\n",
    "    data['y_pred'] =np.where( data['proba'] >=  threshold, 1,0)\n",
    "    TP = ((data['y']==1.0) & (data['y_pred'] == 1.0)).sum() \n",
    "    FP = ((data['y']==0.0) & (data['y_pred'] == 1.0)).sum() \n",
    "    TN = ((data['y']==0.0) & (data['y_pred'] == 0.0)).sum() \n",
    "    FN = ((data['y']==1.0) & (data['y_pred'] == 0.0)).sum() \n",
    "    tpr = TP/(TP+FN)\n",
    "    fpr = FP/(FP+TN) \n",
    "    TPR.append(tpr)       \n",
    "    FPR.append(fpr)\n",
    "  AUC_Score = np.trapz(TPR,FPR)\n",
    "  return AUC_Score"
   ]
  },
  {
   "cell_type": "code",
   "execution_count": 33,
   "metadata": {
    "colab": {
     "base_uri": "https://localhost:8080/"
    },
    "id": "YeywHKDUnECh",
    "outputId": "32c5c2c0-db80-4c0e-f4fa-35dbdbd00a03"
   },
   "outputs": [
    {
     "name": "stdout",
     "output_type": "stream",
     "text": [
      "the AUC SCORE is 0.48829900000000004\n"
     ]
    }
   ],
   "source": [
    "print(f'the AUC SCORE is {auc_score(data)}')"
   ]
  },
  {
   "cell_type": "code",
   "execution_count": 34,
   "metadata": {
    "colab": {
     "base_uri": "https://localhost:8080/"
    },
    "id": "0hu4N2BSW_Bf",
    "outputId": "f836b674-6ec6-408c-8b00-a86fe6631646"
   },
   "outputs": [
    {
     "name": "stdout",
     "output_type": "stream",
     "text": [
      "the Accuracy Score is 0.9900990099009901\n"
     ]
    }
   ],
   "source": [
    "Accuracy_Score = ((c[0][0]+c[1][1])/data.shape[0])\n",
    "print(f'the Accuracy Score is {Accuracy_Score}')"
   ]
  },
  {
   "cell_type": "markdown",
   "metadata": {
    "id": "V5KZem1BQvn2"
   },
   "source": [
    "<pre>\n",
    "<font color='red'><b>B.</b></font> Compute performance metrics for the given data <strong>5_b.csv</strong>\n",
    "   <b>Note 1:</b> in this data you can see number of positive points << number of negatives points\n",
    "   <b>Note 2:</b> use pandas or numpy to read the data from <b>5_b.csv</b>\n",
    "   <b>Note 3:</b> you need to derive the class labels from given score</pre> $y^{pred}= \\text{[0 if y_score < 0.5 else 1]}$\n",
    "\n",
    "<pre>\n",
    "<ol>\n",
    "<li> Compute Confusion Matrix </li>\n",
    "<li> Compute F1 Score </li>\n",
    "<li> Compute AUC Score, you need to compute different thresholds and for each threshold compute tpr,fpr and then use               numpy.trapz(tpr_array, fpr_array) <a href='https://stackoverflow.com/q/53603376/4084039'>https://stackoverflow.com/q/53603376/4084039</a>, <a href='https://stackoverflow.com/a/39678975/4084039'>https://stackoverflow.com/a/39678975/4084039</a></li>\n",
    "<li> Compute Accuracy Score </li>\n",
    "</ol>\n",
    "</pre>"
   ]
  },
  {
   "cell_type": "code",
   "execution_count": 64,
   "metadata": {
    "colab": {
     "base_uri": "https://localhost:8080/",
     "height": 359
    },
    "id": "YZUuvZS8okES",
    "outputId": "55df7c9d-488f-436f-fb2a-1670570c2006"
   },
   "outputs": [
    {
     "data": {
      "text/html": [
       "<div>\n",
       "<style scoped>\n",
       "    .dataframe tbody tr th:only-of-type {\n",
       "        vertical-align: middle;\n",
       "    }\n",
       "\n",
       "    .dataframe tbody tr th {\n",
       "        vertical-align: top;\n",
       "    }\n",
       "\n",
       "    .dataframe thead th {\n",
       "        text-align: right;\n",
       "    }\n",
       "</style>\n",
       "<table border=\"1\" class=\"dataframe\">\n",
       "  <thead>\n",
       "    <tr style=\"text-align: right;\">\n",
       "      <th></th>\n",
       "      <th>y</th>\n",
       "      <th>proba</th>\n",
       "    </tr>\n",
       "  </thead>\n",
       "  <tbody>\n",
       "    <tr>\n",
       "      <th>0</th>\n",
       "      <td>0.0</td>\n",
       "      <td>0.281035</td>\n",
       "    </tr>\n",
       "    <tr>\n",
       "      <th>1</th>\n",
       "      <td>0.0</td>\n",
       "      <td>0.465152</td>\n",
       "    </tr>\n",
       "    <tr>\n",
       "      <th>2</th>\n",
       "      <td>0.0</td>\n",
       "      <td>0.352793</td>\n",
       "    </tr>\n",
       "    <tr>\n",
       "      <th>3</th>\n",
       "      <td>0.0</td>\n",
       "      <td>0.157818</td>\n",
       "    </tr>\n",
       "    <tr>\n",
       "      <th>4</th>\n",
       "      <td>0.0</td>\n",
       "      <td>0.276648</td>\n",
       "    </tr>\n",
       "    <tr>\n",
       "      <th>5</th>\n",
       "      <td>0.0</td>\n",
       "      <td>0.190260</td>\n",
       "    </tr>\n",
       "    <tr>\n",
       "      <th>6</th>\n",
       "      <td>0.0</td>\n",
       "      <td>0.320328</td>\n",
       "    </tr>\n",
       "    <tr>\n",
       "      <th>7</th>\n",
       "      <td>0.0</td>\n",
       "      <td>0.435013</td>\n",
       "    </tr>\n",
       "    <tr>\n",
       "      <th>8</th>\n",
       "      <td>0.0</td>\n",
       "      <td>0.284849</td>\n",
       "    </tr>\n",
       "    <tr>\n",
       "      <th>9</th>\n",
       "      <td>0.0</td>\n",
       "      <td>0.427919</td>\n",
       "    </tr>\n",
       "  </tbody>\n",
       "</table>\n",
       "</div>"
      ],
      "text/plain": [
       "     y     proba\n",
       "0  0.0  0.281035\n",
       "1  0.0  0.465152\n",
       "2  0.0  0.352793\n",
       "3  0.0  0.157818\n",
       "4  0.0  0.276648\n",
       "5  0.0  0.190260\n",
       "6  0.0  0.320328\n",
       "7  0.0  0.435013\n",
       "8  0.0  0.284849\n",
       "9  0.0  0.427919"
      ]
     },
     "execution_count": 64,
     "metadata": {
      "tags": []
     },
     "output_type": "execute_result"
    }
   ],
   "source": [
    "data1 = pd.read_csv('5_b.csv')\n",
    "data1.head(10)"
   ]
  },
  {
   "cell_type": "code",
   "execution_count": 65,
   "metadata": {
    "id": "krvEnP94X-Xr"
   },
   "outputs": [],
   "source": [
    "true_y = data1['y']\n",
    "pred_y = [0 if j['proba'] < 0.5 else 1 for i,j in data1.iterrows()]"
   ]
  },
  {
   "cell_type": "code",
   "execution_count": 66,
   "metadata": {
    "colab": {
     "base_uri": "https://localhost:8080/"
    },
    "id": "FN4j4lsEYGAa",
    "outputId": "b1baad9c-6ec6-4e8b-8e47-b7407e0606e9"
   },
   "outputs": [
    {
     "name": "stdout",
     "output_type": "stream",
     "text": [
      "the confusion matrix is :\n",
      "[[9761  239]\n",
      " [  45   55]]\n"
     ]
    }
   ],
   "source": [
    "def confusion_matrix(true_y,pred_y):\n",
    "  classes = sorted(list(set(true_y)))\n",
    "  size = len(list(set(true_y)))\n",
    "  c = np.zeros([size, size],dtype=int)\n",
    "  for i in range(size):\n",
    "    for j in range(size):\n",
    "      for k in range(len(true_y)):\n",
    "        if true_y[k] == classes[i] and pred_y[k]  == classes[j]:\n",
    "          c[i][j] += 1\n",
    "\n",
    "  return c        \n",
    "  \n",
    "c = confusion_matrix(true_y,pred_y)\n",
    "print(f'the confusion matrix is :')\n",
    "print(c)"
   ]
  },
  {
   "cell_type": "code",
   "execution_count": 67,
   "metadata": {
    "colab": {
     "base_uri": "https://localhost:8080/"
    },
    "id": "yT5Hek5oqXVM",
    "outputId": "681edc15-a603-46a0-e4c0-08bbe29fc9ca"
   },
   "outputs": [
    {
     "name": "stdout",
     "output_type": "stream",
     "text": [
      "f1 score is 0.2791878172588833\n"
     ]
    }
   ],
   "source": [
    "precision = c[1][1]/(c[1][0]+c[1][1])\n",
    "recall = c[1][1]/(c[1][1]+c[0][1])\n",
    "\n",
    "f1_score = 2*((precision*recall)/(precision+recall))\n",
    "print(f'f1 score is {f1_score}')"
   ]
  },
  {
   "cell_type": "code",
   "execution_count": 69,
   "metadata": {
    "id": "vOjabxHtsrta"
   },
   "outputs": [],
   "source": [
    "data1 = pd.read_csv('5_b.csv')\n",
    "data1=data1.sort_values(by= [\"proba\"], ascending = False)"
   ]
  },
  {
   "cell_type": "code",
   "execution_count": 70,
   "metadata": {
    "colab": {
     "base_uri": "https://localhost:8080/"
    },
    "id": "twMvRa8Ro5Zh",
    "outputId": "169135d5-bb5a-4e92-b2f7-3614fb74a99e"
   },
   "outputs": [
    {
     "name": "stdout",
     "output_type": "stream",
     "text": [
      "the AUC SCORE is 0.9377570000000001\n"
     ]
    }
   ],
   "source": [
    "print(f'the AUC SCORE is {auc_score(data1)}')"
   ]
  },
  {
   "cell_type": "code",
   "execution_count": 71,
   "metadata": {
    "colab": {
     "base_uri": "https://localhost:8080/"
    },
    "id": "WgFjdjvKYioM",
    "outputId": "88fbe5e7-c5fe-4620-b178-df4a50d8c4ca"
   },
   "outputs": [
    {
     "name": "stdout",
     "output_type": "stream",
     "text": [
      "Accuracy Score is 0.9718811881188119\n"
     ]
    }
   ],
   "source": [
    "Accuracy_Score = ((c[0][0]+c[1][1])/data1.shape[0])\n",
    "print(f'Accuracy Score is {Accuracy_Score}')"
   ]
  },
  {
   "cell_type": "markdown",
   "metadata": {
    "id": "GiPGonTzQvoB"
   },
   "source": [
    "<font color='red'><b>C.</b></font> Compute the best threshold (similarly to ROC curve computation) of probability which gives lowest values of metric <b>A</b> for the given data <strong>5_c.csv</strong>\n",
    "<br>\n",
    "\n",
    "you will be predicting label of a data points like this: $y^{pred}= \\text{[0 if y_score < threshold  else 1]}$\n",
    "\n",
    "$ A = 500 \\times \\text{number of false negative} + 100 \\times \\text{numebr of false positive}$\n",
    "\n",
    "<pre>\n",
    "   <b>Note 1:</b> in this data you can see number of negative points > number of positive points\n",
    "   <b>Note 2:</b> use pandas or numpy to read the data from <b>5_c.csv</b>\n",
    "</pre>"
   ]
  },
  {
   "cell_type": "code",
   "execution_count": 83,
   "metadata": {
    "colab": {
     "base_uri": "https://localhost:8080/",
     "height": 359
    },
    "id": "WqSgui9Y1Wf8",
    "outputId": "e4886855-dece-42c2-aa54-8ef41d26475f"
   },
   "outputs": [
    {
     "data": {
      "text/html": [
       "<div>\n",
       "<style scoped>\n",
       "    .dataframe tbody tr th:only-of-type {\n",
       "        vertical-align: middle;\n",
       "    }\n",
       "\n",
       "    .dataframe tbody tr th {\n",
       "        vertical-align: top;\n",
       "    }\n",
       "\n",
       "    .dataframe thead th {\n",
       "        text-align: right;\n",
       "    }\n",
       "</style>\n",
       "<table border=\"1\" class=\"dataframe\">\n",
       "  <thead>\n",
       "    <tr style=\"text-align: right;\">\n",
       "      <th></th>\n",
       "      <th>y</th>\n",
       "      <th>prob</th>\n",
       "    </tr>\n",
       "  </thead>\n",
       "  <tbody>\n",
       "    <tr>\n",
       "      <th>0</th>\n",
       "      <td>0</td>\n",
       "      <td>0.458521</td>\n",
       "    </tr>\n",
       "    <tr>\n",
       "      <th>1</th>\n",
       "      <td>0</td>\n",
       "      <td>0.505037</td>\n",
       "    </tr>\n",
       "    <tr>\n",
       "      <th>2</th>\n",
       "      <td>0</td>\n",
       "      <td>0.418652</td>\n",
       "    </tr>\n",
       "    <tr>\n",
       "      <th>3</th>\n",
       "      <td>0</td>\n",
       "      <td>0.412057</td>\n",
       "    </tr>\n",
       "    <tr>\n",
       "      <th>4</th>\n",
       "      <td>0</td>\n",
       "      <td>0.375579</td>\n",
       "    </tr>\n",
       "    <tr>\n",
       "      <th>5</th>\n",
       "      <td>0</td>\n",
       "      <td>0.595387</td>\n",
       "    </tr>\n",
       "    <tr>\n",
       "      <th>6</th>\n",
       "      <td>0</td>\n",
       "      <td>0.370288</td>\n",
       "    </tr>\n",
       "    <tr>\n",
       "      <th>7</th>\n",
       "      <td>0</td>\n",
       "      <td>0.299273</td>\n",
       "    </tr>\n",
       "    <tr>\n",
       "      <th>8</th>\n",
       "      <td>0</td>\n",
       "      <td>0.297000</td>\n",
       "    </tr>\n",
       "    <tr>\n",
       "      <th>9</th>\n",
       "      <td>0</td>\n",
       "      <td>0.266479</td>\n",
       "    </tr>\n",
       "  </tbody>\n",
       "</table>\n",
       "</div>"
      ],
      "text/plain": [
       "   y      prob\n",
       "0  0  0.458521\n",
       "1  0  0.505037\n",
       "2  0  0.418652\n",
       "3  0  0.412057\n",
       "4  0  0.375579\n",
       "5  0  0.595387\n",
       "6  0  0.370288\n",
       "7  0  0.299273\n",
       "8  0  0.297000\n",
       "9  0  0.266479"
      ]
     },
     "execution_count": 83,
     "metadata": {
      "tags": []
     },
     "output_type": "execute_result"
    }
   ],
   "source": [
    "data2 = pd.read_csv('5_c.csv')\n",
    "data2.head(10)"
   ]
  },
  {
   "cell_type": "code",
   "execution_count": 84,
   "metadata": {
    "id": "kidVDDeeyOUU"
   },
   "outputs": [],
   "source": [
    "true_y = data2['y']\n",
    "pred_y = [0 if j['prob'] < 0.5 else 1 for i,j in data2.iterrows()]"
   ]
  },
  {
   "cell_type": "code",
   "execution_count": 85,
   "metadata": {
    "colab": {
     "base_uri": "https://localhost:8080/"
    },
    "id": "U9Vto2EGyRsN",
    "outputId": "d3ddafed-42a4-4d73-aa9d-af44e3cd3819"
   },
   "outputs": [
    {
     "name": "stdout",
     "output_type": "stream",
     "text": [
      "Total length of thresholds 2791\n"
     ]
    }
   ],
   "source": [
    "thresholds = [i for i in sorted(list(set(data2['prob'])))]\n",
    "thresholds = sorted(list(set(thresholds)))\n",
    "print(f'Total length of thresholds {len(thresholds)}')\n"
   ]
  },
  {
   "cell_type": "code",
   "execution_count": 86,
   "metadata": {
    "colab": {
     "base_uri": "https://localhost:8080/"
    },
    "id": "xiVObctbbpB9",
    "outputId": "c85ba6fd-1cb1-4132-b4f2-ab0b3779ba81"
   },
   "outputs": [
    {
     "name": "stdout",
     "output_type": "stream",
     "text": [
      "CPU times: user 9min 26s, sys: 90.9 ms, total: 9min 27s\n",
      "Wall time: 9min 27s\n"
     ]
    }
   ],
   "source": [
    "%%time\n",
    "A = np.zeros(len(thresholds), dtype = float)\n",
    "for i, k in enumerate(thresholds):\n",
    "  predicted_y = [0 if j['prob'] < k else 1 for i,j in data2.iterrows()]\n",
    "  z = confusion_matrix(true_y,predicted_y)\n",
    "  A[i] = 500*z[1][0] + 100*z[0][1]\n",
    "\n"
   ]
  },
  {
   "cell_type": "code",
   "execution_count": 87,
   "metadata": {
    "colab": {
     "base_uri": "https://localhost:8080/"
    },
    "id": "_2F9DTWpgcLs",
    "outputId": "721e4629-c8aa-4092-acfa-d93a122b701d"
   },
   "outputs": [
    {
     "name": "stdout",
     "output_type": "stream",
     "text": [
      "A is 141000.0\n"
     ]
    }
   ],
   "source": [
    "A_list = list(A)\n",
    "b = min(A_list)\n",
    "print(f'A is {b}')"
   ]
  },
  {
   "cell_type": "code",
   "execution_count": 88,
   "metadata": {
    "colab": {
     "base_uri": "https://localhost:8080/"
    },
    "id": "vtUm6XSWhAGV",
    "outputId": "e53b4322-a0cb-4be0-b440-cb331579cdd8"
   },
   "outputs": [
    {
     "name": "stdout",
     "output_type": "stream",
     "text": [
      "The best threshold is 0.2300390278970873\n"
     ]
    }
   ],
   "source": [
    "best_threshold = thresholds[A_list.index(b)]\n",
    "print(f'The best threshold is {best_threshold}')"
   ]
  },
  {
   "cell_type": "markdown",
   "metadata": {
    "id": "sD4CcgjXQvoL"
   },
   "source": [
    "<pre>\n",
    "<font color='red'><b>D.</b></font> Compute performance metrics(for regression) for the given data <strong>5_d.csv</strong>\n",
    "    <b>Note 2:</b> use pandas or numpy to read the data from <b>5_d.csv</b>\n",
    "    <b>Note 1:</b> <b>5_d.csv</b> will having two columns Y and predicted_Y both are real valued features\n",
    "<ol>\n",
    "<li> Compute Mean Square Error </li>\n",
    "<li> Compute MAPE: https://www.youtube.com/watch?v=ly6ztgIkUxk</li>\n",
    "<li> Compute R^2 error: https://en.wikipedia.org/wiki/Coefficient_of_determination#Definitions </li>\n",
    "</ol>\n",
    "</pre>"
   ]
  },
  {
   "cell_type": "code",
   "execution_count": null,
   "metadata": {
    "colab": {
     "base_uri": "https://localhost:8080/",
     "height": 359
    },
    "id": "Q3IgumbUh3X3",
    "outputId": "52535c69-cee7-4a1b-9daf-bb7a966a6161"
   },
   "outputs": [
    {
     "data": {
      "text/html": [
       "<div>\n",
       "<style scoped>\n",
       "    .dataframe tbody tr th:only-of-type {\n",
       "        vertical-align: middle;\n",
       "    }\n",
       "\n",
       "    .dataframe tbody tr th {\n",
       "        vertical-align: top;\n",
       "    }\n",
       "\n",
       "    .dataframe thead th {\n",
       "        text-align: right;\n",
       "    }\n",
       "</style>\n",
       "<table border=\"1\" class=\"dataframe\">\n",
       "  <thead>\n",
       "    <tr style=\"text-align: right;\">\n",
       "      <th></th>\n",
       "      <th>y</th>\n",
       "      <th>pred</th>\n",
       "    </tr>\n",
       "  </thead>\n",
       "  <tbody>\n",
       "    <tr>\n",
       "      <th>0</th>\n",
       "      <td>101.0</td>\n",
       "      <td>100.0</td>\n",
       "    </tr>\n",
       "    <tr>\n",
       "      <th>1</th>\n",
       "      <td>120.0</td>\n",
       "      <td>100.0</td>\n",
       "    </tr>\n",
       "    <tr>\n",
       "      <th>2</th>\n",
       "      <td>131.0</td>\n",
       "      <td>113.0</td>\n",
       "    </tr>\n",
       "    <tr>\n",
       "      <th>3</th>\n",
       "      <td>164.0</td>\n",
       "      <td>125.0</td>\n",
       "    </tr>\n",
       "    <tr>\n",
       "      <th>4</th>\n",
       "      <td>154.0</td>\n",
       "      <td>152.0</td>\n",
       "    </tr>\n",
       "    <tr>\n",
       "      <th>5</th>\n",
       "      <td>133.0</td>\n",
       "      <td>153.0</td>\n",
       "    </tr>\n",
       "    <tr>\n",
       "      <th>6</th>\n",
       "      <td>148.0</td>\n",
       "      <td>139.0</td>\n",
       "    </tr>\n",
       "    <tr>\n",
       "      <th>7</th>\n",
       "      <td>172.0</td>\n",
       "      <td>145.0</td>\n",
       "    </tr>\n",
       "    <tr>\n",
       "      <th>8</th>\n",
       "      <td>153.0</td>\n",
       "      <td>162.0</td>\n",
       "    </tr>\n",
       "    <tr>\n",
       "      <th>9</th>\n",
       "      <td>162.0</td>\n",
       "      <td>154.0</td>\n",
       "    </tr>\n",
       "  </tbody>\n",
       "</table>\n",
       "</div>"
      ],
      "text/plain": [
       "       y   pred\n",
       "0  101.0  100.0\n",
       "1  120.0  100.0\n",
       "2  131.0  113.0\n",
       "3  164.0  125.0\n",
       "4  154.0  152.0\n",
       "5  133.0  153.0\n",
       "6  148.0  139.0\n",
       "7  172.0  145.0\n",
       "8  153.0  162.0\n",
       "9  162.0  154.0"
      ]
     },
     "execution_count": 86,
     "metadata": {
      "tags": []
     },
     "output_type": "execute_result"
    }
   ],
   "source": [
    "data3 = pd.read_csv('5_d.csv')\n",
    "data3.head(10)"
   ]
  },
  {
   "cell_type": "code",
   "execution_count": null,
   "metadata": {
    "colab": {
     "base_uri": "https://localhost:8080/"
    },
    "id": "Ax2i-SYDiUt6",
    "outputId": "a1c01337-cedd-4624-8c0d-da3163533fcb"
   },
   "outputs": [
    {
     "name": "stdout",
     "output_type": "stream",
     "text": [
      "Mean Square Error is 177.16569974554707\n"
     ]
    }
   ],
   "source": [
    "sum_Square_Error = 0\n",
    "for i,j in data3.iterrows():\n",
    "  sum_Square_Error = sum_Square_Error + pow((j['y']-j['pred']),2)\n",
    "\n",
    "Mean_Square_Error = (sum_Square_Error/data3.shape[0])\n",
    "\n",
    "print(f'Mean Square Error is {Mean_Square_Error}')\n",
    "\n"
   ]
  },
  {
   "cell_type": "code",
   "execution_count": null,
   "metadata": {
    "colab": {
     "base_uri": "https://localhost:8080/"
    },
    "id": "jioKfJ-uUq7F",
    "outputId": "0db75bae-81b9-4d34-8429-ca4463827c9d"
   },
   "outputs": [
    {
     "name": "stdout",
     "output_type": "stream",
     "text": [
      "Mean Square percentage Error is 0.1291202994009687\n"
     ]
    }
   ],
   "source": [
    "error = 0\n",
    "for i in range(len(data3)):\n",
    "  error = error + np.absolute((data3['y'][i]-data3['pred'][i]))\n",
    "sum= 0\n",
    "for i in range(len(data3)):\n",
    "  sum = sum + data3['y'][i]\n",
    "mape = error/sum\n",
    "print(f'Mean Square percentage Error is {mape}') "
   ]
  },
  {
   "cell_type": "code",
   "execution_count": null,
   "metadata": {
    "colab": {
     "base_uri": "https://localhost:8080/"
    },
    "id": "7NtX4azio2bb",
    "outputId": "d982dd26-e394-473f-daa5-16c3223c1285"
   },
   "outputs": [
    {
     "name": "stdout",
     "output_type": "stream",
     "text": [
      "R2_error is 0.9563582786990964\n"
     ]
    }
   ],
   "source": [
    "def coefficient_of_determination(data3):\n",
    "  sum_true_y = 0\n",
    "  for i,j in data3.iterrows():\n",
    "    sum_true_y = sum_true_y + j['y']\n",
    "  mean =  sum_true_y/data3.shape[0]\n",
    "  \n",
    "  total_sum_of_square = 0\n",
    "  for i,j in data3.iterrows():\n",
    "    total_sum_of_square = total_sum_of_square + pow((j['y']-mean),2)\n",
    "\n",
    "  sum_of_square_residue = 0\n",
    "  for i,j in data3.iterrows():\n",
    "    sum_of_square_residue = sum_of_square_residue + pow((j['y']-j['pred']),2)\n",
    "\n",
    "  coefficient_of_determination  = (1-(sum_of_square_residue/total_sum_of_square))\n",
    "\n",
    "  return coefficient_of_determination\n",
    "\n",
    "R2_error = coefficient_of_determination(data3)\n",
    "print(f'R2_error is {R2_error}')"
   ]
  }
 ],
 "metadata": {
  "colab": {
   "collapsed_sections": [],
   "name": "5_Performance_metrics_Instructions_1.ipynb",
   "provenance": []
  },
  "kernelspec": {
   "display_name": "Python 3",
   "language": "python",
   "name": "python3"
  },
  "language_info": {
   "codemirror_mode": {
    "name": "ipython",
    "version": 3
   },
   "file_extension": ".py",
   "mimetype": "text/x-python",
   "name": "python",
   "nbconvert_exporter": "python",
   "pygments_lexer": "ipython3",
   "version": "3.7.5"
  }
 },
 "nbformat": 4,
 "nbformat_minor": 1
}
